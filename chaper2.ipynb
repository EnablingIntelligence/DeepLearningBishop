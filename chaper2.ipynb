{
 "cells": [
  {
   "metadata": {},
   "cell_type": "markdown",
   "source": [
    "# Exercises Chapter 2\n",
    "\n",
    "The following file contains my personal solutions for the exercises in chapter 2 of the book \"Deep Learning - Foundation and Concepts\" by Christopher M. Bishop with Hugh Bishop. "
   ],
   "id": "135fa22f5dd7611c"
  },
  {
   "metadata": {},
   "cell_type": "markdown",
   "source": "## Exercise 2.1",
   "id": "ecc0c0f11cf1dd7f"
  },
  {
   "metadata": {},
   "cell_type": "markdown",
   "source": "## Exercise 2.2",
   "id": "afe36d094b910287"
  },
  {
   "metadata": {},
   "cell_type": "markdown",
   "source": "## Exercise 2.3",
   "id": "8cab4a51c0995577"
  },
  {
   "metadata": {},
   "cell_type": "markdown",
   "source": "## Exercise 2.4",
   "id": "e455b1828d35efb1"
  },
  {
   "metadata": {},
   "cell_type": "markdown",
   "source": "## Exercise 2.5",
   "id": "f7320ba5373c6ef3"
  },
  {
   "metadata": {},
   "cell_type": "markdown",
   "source": "## Exercise 2.6",
   "id": "5a87cd783192c939"
  },
  {
   "metadata": {},
   "cell_type": "markdown",
   "source": "## Exercise 2.7",
   "id": "e0845bdf93597ada"
  },
  {
   "metadata": {},
   "cell_type": "markdown",
   "source": "## Exercise 2.8",
   "id": "37f3cb9dca6ae515"
  },
  {
   "metadata": {},
   "cell_type": "markdown",
   "source": "## Exercise 2.9",
   "id": "989f9bb1af88c12e"
  },
  {
   "metadata": {},
   "cell_type": "markdown",
   "source": "## Exercise 2.10",
   "id": "4a1ffade661efbd5"
  },
  {
   "metadata": {},
   "cell_type": "markdown",
   "source": "## Exercise 2.11",
   "id": "4b5fcdd5aaabacb7"
  },
  {
   "metadata": {},
   "cell_type": "markdown",
   "source": "## Exercise 2.12",
   "id": "b4407c1178d1eb59"
  },
  {
   "metadata": {},
   "cell_type": "markdown",
   "source": "## Exercise 2.13",
   "id": "c67470eb64bc64e1"
  },
  {
   "metadata": {},
   "cell_type": "markdown",
   "source": "## Exercise 2.14",
   "id": "88aff549c38314e3"
  },
  {
   "metadata": {},
   "cell_type": "markdown",
   "source": "## Exercise 2.15",
   "id": "b3e5d11ef78df005"
  },
  {
   "metadata": {},
   "cell_type": "markdown",
   "source": "## Exercise 2.16",
   "id": "f9a4a2de1f8658bc"
  },
  {
   "metadata": {},
   "cell_type": "markdown",
   "source": "## Exercise 2.17",
   "id": "bfd3f9a083f1a65e"
  },
  {
   "metadata": {},
   "cell_type": "markdown",
   "source": "## Exercise 2.18",
   "id": "9e75de9c766cae31"
  },
  {
   "metadata": {},
   "cell_type": "markdown",
   "source": "## Exercise 2.19",
   "id": "40c39d2318c7699"
  },
  {
   "metadata": {},
   "cell_type": "markdown",
   "source": "## Exercise 2.20",
   "id": "71dcc20dda8602da"
  },
  {
   "metadata": {},
   "cell_type": "markdown",
   "source": "## Exercise 2.21",
   "id": "987211602cc9a566"
  },
  {
   "metadata": {},
   "cell_type": "markdown",
   "source": "## Exercise 2.22",
   "id": "3a1a2f1e76cc70af"
  },
  {
   "metadata": {},
   "cell_type": "markdown",
   "source": "## Exercise 2.23",
   "id": "5338b7d394caab0b"
  },
  {
   "metadata": {},
   "cell_type": "markdown",
   "source": "## Exercise 2.24",
   "id": "3466bc7ebef713d"
  },
  {
   "metadata": {},
   "cell_type": "markdown",
   "source": "## Exercise 2.25",
   "id": "91ed5865699725fb"
  },
  {
   "metadata": {},
   "cell_type": "markdown",
   "source": "## Exercise 2.26",
   "id": "9cc4a070d1b0cd2f"
  },
  {
   "metadata": {},
   "cell_type": "markdown",
   "source": "## Exercise 2.27",
   "id": "a245d1b39388d9c6"
  },
  {
   "metadata": {},
   "cell_type": "markdown",
   "source": "## Exercise 2.28",
   "id": "f6d3fcddcae65074"
  },
  {
   "metadata": {},
   "cell_type": "markdown",
   "source": "## Exercise 2.29",
   "id": "87319e00636e8e1c"
  },
  {
   "metadata": {},
   "cell_type": "markdown",
   "source": "## Exercise 2.30",
   "id": "662719602d620287"
  },
  {
   "metadata": {},
   "cell_type": "markdown",
   "source": "## Exercise 2.31",
   "id": "e7497def09444c24"
  },
  {
   "metadata": {},
   "cell_type": "markdown",
   "source": "## Exercise 2.32",
   "id": "4e2c1fbb6b02c709"
  },
  {
   "metadata": {},
   "cell_type": "markdown",
   "source": "## Exercise 2.33",
   "id": "5a708446c3c4607f"
  },
  {
   "metadata": {},
   "cell_type": "markdown",
   "source": "## Exercise 2.34",
   "id": "62a1d0785cb92ccb"
  },
  {
   "metadata": {},
   "cell_type": "markdown",
   "source": "## Exercise 2.35",
   "id": "14c4dc907bb70c42"
  },
  {
   "metadata": {},
   "cell_type": "markdown",
   "source": "## Exercise 2.36",
   "id": "d3f0c94a8de6e227"
  },
  {
   "metadata": {},
   "cell_type": "markdown",
   "source": "## Exercise 2.37",
   "id": "6ae837f9fc8b9cbe"
  },
  {
   "metadata": {},
   "cell_type": "markdown",
   "source": "## Exercise 2.38",
   "id": "28b13d257028df8"
  },
  {
   "metadata": {},
   "cell_type": "markdown",
   "source": "## Exercise 2.39",
   "id": "97bf5d38d86aacd7"
  },
  {
   "metadata": {},
   "cell_type": "markdown",
   "source": "## Exercise 2.40",
   "id": "78187e6342b46cda"
  },
  {
   "metadata": {},
   "cell_type": "markdown",
   "source": "## Exercise 2.41",
   "id": "b85fe9db803bbaf5"
  }
 ],
 "metadata": {
  "kernelspec": {
   "display_name": "Python 3",
   "language": "python",
   "name": "python3"
  },
  "language_info": {
   "codemirror_mode": {
    "name": "ipython",
    "version": 2
   },
   "file_extension": ".py",
   "mimetype": "text/x-python",
   "name": "python",
   "nbconvert_exporter": "python",
   "pygments_lexer": "ipython2",
   "version": "2.7.6"
  }
 },
 "nbformat": 4,
 "nbformat_minor": 5
}
